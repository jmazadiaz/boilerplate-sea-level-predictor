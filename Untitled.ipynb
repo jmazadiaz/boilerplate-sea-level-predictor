{
 "cells": [
  {
   "cell_type": "code",
   "execution_count": 2,
   "id": "ee645e93-439c-4390-8dde-a40c8a4d2751",
   "metadata": {},
   "outputs": [],
   "source": [
    "import pandas as pd\n",
    "import matplotlib.pyplot as plt\n",
    "import numpy as np\n",
    "from scipy.stats import linregress"
   ]
  },
  {
   "cell_type": "code",
   "execution_count": 3,
   "id": "533b8bd0-a3ba-4ed5-88fe-7afead19f65e",
   "metadata": {},
   "outputs": [],
   "source": [
    "df = pd.read_csv('epa-sea-level.csv')"
   ]
  },
  {
   "cell_type": "code",
   "execution_count": 4,
   "id": "c4c9ce05-8d28-49d1-a68d-a6407ff47bc8",
   "metadata": {},
   "outputs": [
    {
     "data": {
      "text/plain": [
       "0      1880\n",
       "1      1881\n",
       "2      1882\n",
       "3      1883\n",
       "4      1884\n",
       "       ... \n",
       "129    2009\n",
       "130    2010\n",
       "131    2011\n",
       "132    2012\n",
       "133    2013\n",
       "Name: Year, Length: 134, dtype: int64"
      ]
     },
     "execution_count": 4,
     "metadata": {},
     "output_type": "execute_result"
    }
   ],
   "source": [
    "df['Year']"
   ]
  },
  {
   "cell_type": "code",
   "execution_count": null,
   "id": "32005640-d6c2-4608-b421-85354bd2bc10",
   "metadata": {},
   "outputs": [
    {
     "data": {
      "text/plain": [
       "<matplotlib.collections.PathCollection at 0x17974d4cf40>"
      ]
     },
     "execution_count": 3,
     "metadata": {},
     "output_type": "execute_result"
    },
    {
     "data": {
      "image/png": "[encoded data removed]",
      "text/plain": [
       "<Figure size 432x288 with 1 Axes>"
      ]
     },
     "metadata": {
      "needs_background": "light"
     },
     "output_type": "display_data"
    }
   ],
   "source": [
    "plt.scatter(df['Year'], df['CSIRO Adjusted Sea Level'])"
   ]
  },
  {
   "cell_type": "code",
   "execution_count": 7,
   "id": "a50ec5dd-75fa-4b4f-8db3-1672238f0b5e",
   "metadata": {},
   "outputs": [
    {
     "data": {
      "text/plain": [
       "LinregressResult(slope=0.0630445840121348, intercept=-119.06594196773978, rvalue=0.984757131182585, pvalue=3.7886969791131554e-102, stderr=0.0009692118713287149, intercept_stderr=1.8869433812425223)"
      ]
     },
     "execution_count": 7,
     "metadata": {},
     "output_type": "execute_result"
    }
   ],
   "source": [
    "fit = linregress(df['Year'],df['CSIRO Adjusted Sea Level'])\n",
    "fit"
   ]
  },
  {
   "cell_type": "code",
   "execution_count": 9,
   "id": "266c168e-0334-4f0d-a719-2473f05247bc",
   "metadata": {},
   "outputs": [],
   "source": [
    "xFlin = np.arange(df['Year'].min(),2050,1)\n",
    "yFlin = (xFlin*fit.slope + fit.intercept).tolist()\n"
   ]
  },
  {
   "cell_type": "code",
   "execution_count": 10,
   "id": "df738a64-e151-4171-9988-b8354b5efd44",
   "metadata": {},
   "outputs": [],
   "source": [
    "xFlin , yFlin = [np.arange(df['Year'].min(),2050,1).tolist()\n",
    "                 ,np.round(( xFlin*fit.slope + fit.intercept),7).tolist()]\n"
   ]
  },
  {
   "cell_type": "code",
   "execution_count": 11,
   "id": "0d673982-a82e-4c45-abde-d4eddf6dcb92",
   "metadata": {},
   "outputs": [
    {
     "data": {
      "text/plain": [
       "[<matplotlib.lines.Line2D at 0x281e1137f40>]"
      ]
     },
     "execution_count": 11,
     "metadata": {},
     "output_type": "execute_result"
    },
    {
     "data": {
      "image/png": "[encoded data removed]",
      "text/plain": [
       "<Figure size 432x288 with 1 Axes>"
      ]
     },
     "metadata": {
      "needs_background": "light"
     },
     "output_type": "display_data"
    }
   ],
   "source": [
    "plt.plot(xFlin,yFlin)"
   ]
  },
  {
   "cell_type": "markdown",
   "id": "5dbf82d9-4212-4ff5-b48f-3194c3f52a94",
   "metadata": {},
   "source": [
    "### 2da Line"
   ]
  },
  {
   "cell_type": "code",
   "execution_count": 70,
   "id": "10fa75b1-9e4b-41c3-86a5-5edcf4260ac8",
   "metadata": {},
   "outputs": [],
   "source": [
    "df_L2 = df[df['Year'] >= 2000]"
   ]
  },
  {
   "cell_type": "code",
   "execution_count": 69,
   "id": "b4589baa-bca5-41d0-bf0e-9ff0cc518a91",
   "metadata": {},
   "outputs": [
    {
     "ename": "NameError",
     "evalue": "name 'xFlin2' is not defined",
     "output_type": "error",
     "traceback": [
      "\u001b[0;31m---------------------------------------------------------------------------\u001b[0m",
      "\u001b[0;31mNameError\u001b[0m                                 Traceback (most recent call last)",
      "Input \u001b[0;32mIn [69]\u001b[0m, in \u001b[0;36m<cell line: 4>\u001b[0;34m()\u001b[0m\n\u001b[1;32m      1\u001b[0m df_L2 \u001b[38;5;241m=\u001b[39m df[df[\u001b[38;5;124m'\u001b[39m\u001b[38;5;124mYear\u001b[39m\u001b[38;5;124m'\u001b[39m] \u001b[38;5;241m>\u001b[39m\u001b[38;5;241m=\u001b[39m \u001b[38;5;241m2000\u001b[39m]\n\u001b[1;32m      2\u001b[0m fit2 \u001b[38;5;241m=\u001b[39m linregress(df_L2[\u001b[38;5;124m'\u001b[39m\u001b[38;5;124mYear\u001b[39m\u001b[38;5;124m'\u001b[39m],df_L2[\u001b[38;5;124m'\u001b[39m\u001b[38;5;124mCSIRO Adjusted Sea Level\u001b[39m\u001b[38;5;124m'\u001b[39m])\n\u001b[1;32m      4\u001b[0m xFlin2 , yFlin2 \u001b[38;5;241m=\u001b[39m [np\u001b[38;5;241m.\u001b[39marange(\u001b[38;5;241m2000\u001b[39m,\u001b[38;5;241m2050\u001b[39m,\u001b[38;5;241m1\u001b[39m)\n\u001b[0;32m----> 5\u001b[0m                  , \u001b[43mxFlin2\u001b[49m\u001b[38;5;241m*\u001b[39mfit2\u001b[38;5;241m.\u001b[39mslope \u001b[38;5;241m+\u001b[39m fit2\u001b[38;5;241m.\u001b[39mintercept]\n",
      "\u001b[0;31mNameError\u001b[0m: name 'xFlin2' is not defined"
     ]
    }
   ],
   "source": [
    "fit2 = linregress(df_L2['Year'],df_L2['CSIRO Adjusted Sea Level'])\n",
    "\n",
    "xFlin2 , yFlin2 = [np.arange(2000,2050,1)\n",
    "                 , xFlin2*fit2.slope + fit2.intercept]"
   ]
  },
  {
   "cell_type": "code",
   "execution_count": 41,
   "id": "88ed74a6-7011-4a23-94f9-f611e458784e",
   "metadata": {},
   "outputs": [
    {
     "data": {
      "text/plain": [
       "[<matplotlib.lines.Line2D at 0x7fc029e7f8e0>]"
      ]
     },
     "execution_count": 41,
     "metadata": {},
     "output_type": "execute_result"
    },
    {
     "data": {
      "image/png": "[encoded data removed]",
      "text/plain": [
       "<Figure size 432x288 with 1 Axes>"
      ]
     },
     "metadata": {
      "needs_background": "light"
     },
     "output_type": "display_data"
    }
   ],
   "source": [
    "plt.plot(xFlin2,yFlin2)"
   ]
  },
  {
   "cell_type": "markdown",
   "id": "41d0079a-662a-4b87-9b7e-35181fc22fd3",
   "metadata": {},
   "source": [
    "# Draw Plot"
   ]
  },
  {
   "cell_type": "code",
   "execution_count": 12,
   "id": "c5f6770e-c82b-462c-a610-492774305b04",
   "metadata": {},
   "outputs": [],
   "source": [
    "def draw_plot():\n",
    "    # Read data from file\n",
    "    \n",
    "    df = pd.read_csv('epa-sea-level.csv')\n",
    "\n",
    "    # Create scatter plot\n",
    "    \n",
    "    plt.scatter(df['Year'], df['CSIRO Adjusted Sea Level'])\n",
    "\n",
    "    # Create first line of best fit\n",
    "\n",
    "    fit1 = linregress(df['Year'],df['CSIRO Adjusted Sea Level'])\n",
    "    \n",
    "    xFlin , yFlin = [np.arange(df['Year'].min(),2050,1).tolist()\n",
    "                     ,(np.arange(df['Year'].min(),2050,1)*fit1.slope + fit1.intercept).tolist()]\n",
    "    # Plot\n",
    "    plt.plot(xFlin,yFlin)\n",
    "    \n",
    "    # Create second line of best fit\n",
    "    \n",
    "    # New DataFrame\n",
    "    df_L2 = df[df['Year'] >= 2000]\n",
    "    \n",
    "    fit2 = linregress(df_L2['Year'],df_L2['CSIRO Adjusted Sea Level'])\n",
    "\n",
    "    xFlin2 , yFlin2 = [np.arange(2000,2050,1).tolist()\n",
    "                       , (np.arange(2000,2050,1)*fit2.slope + fit2.intercept).tolist()]\n",
    "    # Plot\n",
    "    plt.plot(xFlin2,yFlin2)\n",
    "    \n",
    "    # Add labels and title\n",
    "    \n",
    "    plt.title('Rise in Sea Level')\n",
    "    plt.ylabel('Sea Level (inches)')\n",
    "    plt.xlabel('Year')\n",
    "    \n",
    "    \n",
    "    # Save plot and return data for testing (DO NOT MODIFY)\n",
    "    plt.savefig('sea_level_plot.png')\n",
    "    return plt.gca()"
   ]
  },
  {
   "cell_type": "code",
   "execution_count": 13,
   "id": "a0cd1ae8-c9ba-46b8-960a-71c437750ebc",
   "metadata": {},
   "outputs": [
    {
     "data": {
      "text/plain": [
       "<AxesSubplot:title={'center':'Rise in Sea Level'}, xlabel='Year', ylabel='Sea Level (inches)'>"
      ]
     },
     "execution_count": 13,
     "metadata": {},
     "output_type": "execute_result"
    },
    {
     "data": {
      "image/png": "[encoded data removed]",
      "text/plain": [
       "<Figure size 432x288 with 1 Axes>"
      ]
     },
     "metadata": {
      "needs_background": "light"
     },
     "output_type": "display_data"
    }
   ],
   "source": [
    "draw_plot()"
   ]
  },
  {
   "cell_type": "code",
   "execution_count": 50,
   "id": "119600a1-f1e1-462f-80f8-3f742f5b0a9e",
   "metadata": {},
   "outputs": [],
   "source": [
    "def draw_plot():\n",
    "    # Read data from file\n",
    "    \n",
    "    df = pd.read_csv('epa-sea-level.csv')\n",
    "\n",
    "    # Create scatter plot\n",
    "    \n",
    "    plt.scatter(df['Year'], df['CSIRO Adjusted Sea Level'])\n",
    "\n",
    "    # Create first line of best fit\n",
    "\n",
    "    fit1 = linregress(df['Year'],df['CSIRO Adjusted Sea Level'])\n",
    "    \n",
    "    ####\n",
    "    xFilin = np.arange(df['Year'].min(),2050,1)\n",
    "    Filn= [[0,0.0]]\n",
    "\n",
    "    for j in xFilin:\n",
    "        #print(i)\n",
    "        Filn.append([j.item(),(j*fit1.slope + fit1.intercept).item()])\n",
    "\n",
    "\n",
    "    Filn= Filn[1:]\n",
    "    \n",
    "    ####\n",
    "    \n",
    "    #xFlin = np.arange(df['Year'].min(),2050,1).item() \n",
    "    #yFlin = (xFlin*fit1.slope + fit1.intercept).item()\n",
    "    # Plot\n",
    "    plt.plot(Filn)\n",
    "    \n",
    "    # Create second line of best fit\n",
    "    \n",
    "    # New DataFrame\n",
    "    df_L2 = df[df['Year'] >= 2000]\n",
    "    \n",
    "    fit2 = linregress(df_L2['Year'],df_L2['CSIRO Adjusted Sea Level'])\n",
    "    \n",
    "    #####\n",
    "    \n",
    "    xFilin2 = np.arange(2000,2050,1)\n",
    "    Filn2 = [[0,0.0]]\n",
    "\n",
    "    for j in xFilin2:\n",
    "        #print(i)\n",
    "        Filn2.append([j.item(),(j*fit2.slope + fit2.intercept).item()])\n",
    "\n",
    "\n",
    "    Filn2= Filn2[1:]\n",
    "    \n",
    "    #####\n",
    "\n",
    "    #xFlin2 = np.arange(2000,2050,1).item() \n",
    "    #yFlin2 = (xFlin2*fit2.slope + fit2.intercept).item()\n",
    "    # Plot\n",
    "    plt.plot(Filn2)\n",
    "    \n",
    "    # Add labels and title\n",
    "    \n",
    "    plt.title('Rise in Sea Level')\n",
    "    plt.ylabel('Sea Level (inches)')\n",
    "    plt.xlabel('Year')\n",
    "    \n",
    "    \n",
    "    # Save plot and return data for testing (DO NOT MODIFY)\n",
    "    plt.savefig('sea_level_plot.png')\n",
    "    return plt.gca()"
   ]
  },
  {
   "cell_type": "code",
   "execution_count": 51,
   "id": "453f03a7-f6e6-452a-bb3d-9b205b690839",
   "metadata": {},
   "outputs": [
    {
     "data": {
      "text/plain": [
       "<AxesSubplot:title={'center':'Rise in Sea Level'}, xlabel='Year', ylabel='Sea Level (inches)'>"
      ]
     },
     "execution_count": 59,
     "metadata": {},
     "output_type": "execute_result"
    },
    {
     "data": {
      "image/png": "[encoded data removed]",
      "text/plain": [
       "<Figure size 432x288 with 1 Axes>"
      ]
     },
     "metadata": {
      "needs_background": "light"
     },
     "output_type": "display_data"
    }
   ],
   "source": [
    "draw_plot()"
   ]
  },
  {
   "cell_type": "code",
   "execution_count": 6,
   "id": "d89f4afe-a1fc-44c2-ab35-b85b77f24810",
   "metadata": {},
   "outputs": [
    {
     "data": {
      "text/plain": [
       "<matplotlib.collections.PathCollection at 0x1ae364454f0>"
      ]
     },
     "execution_count": 6,
     "metadata": {},
     "output_type": "execute_result"
    },
    {
     "data": {
      "image/png": "[encoded data removed]",
      "text/plain": [
       "<Figure size 432x288 with 1 Axes>"
      ]
     },
     "metadata": {
      "needs_background": "light"
     },
     "output_type": "display_data"
    }
   ],
   "source": [
    "# Read data from file\n",
    "\n",
    "df = pd.read_csv('epa-sea-level.csv')\n",
    "\n",
    "# Create scatter plot\n",
    "\n",
    "plt.scatter(df['Year'], df['CSIRO Adjusted Sea Level'])"
   ]
  },
  {
   "cell_type": "code",
   "execution_count": 24,
   "id": "95fbadf3-80ef-45b5-b6c4-52d1678749c5",
   "metadata": {},
   "outputs": [],
   "source": [
    "fit1 = linregress(df['Year'],df['CSIRO Adjusted Sea Level'])"
   ]
  },
  {
   "cell_type": "code",
   "execution_count": 48,
   "id": "13809b98-6962-4b08-a6c4-b3ba501ed7ca",
   "metadata": {},
   "outputs": [
    {
     "data": {
      "text/plain": [
       "[<matplotlib.lines.Line2D at 0x7f1c8e5674c0>,\n",
       " <matplotlib.lines.Line2D at 0x7f1c8e567370>]"
      ]
     },
     "execution_count": 48,
     "metadata": {},
     "output_type": "execute_result"
    },
    {
     "data": {
      "image/png": "[encoded data removed]",
      "text/plain": [
       "<Figure size 432x288 with 1 Axes>"
      ]
     },
     "metadata": {
      "needs_background": "light"
     },
     "output_type": "display_data"
    }
   ],
   "source": [
    "# Create first line of best fit\n",
    "\n",
    "\n",
    "xFilin = np.arange(df['Year'].min(),2050,1)\n",
    "Film= [[0,0.0]]\n",
    "\n",
    "for j in xFilin:\n",
    "    #print(i)\n",
    "    Film.append([j.item(),(j*fit1.slope + fit1.intercept).item()])\n",
    "    \n",
    "\n",
    "Filn= Film[1:]\n",
    "Filn\n",
    "plt.plot(Filn)"
   ]
  },
  {
   "cell_type": "code",
   "execution_count": 72,
   "id": "5999d494-9fb1-4765-9bd0-9717f039accf",
   "metadata": {},
   "outputs": [],
   "source": [
    "df_L2 = df[df['Year'] >= 2000]\n",
    "    \n",
    "fit2 = linregress(df_L2['Year'],df_L2['CSIRO Adjusted Sea Level'])"
   ]
  },
  {
   "cell_type": "code",
   "execution_count": 77,
   "id": "d462b8fb-8cb6-43ce-a6cc-0d4c421554d1",
   "metadata": {},
   "outputs": [
    {
     "data": {
      "text/plain": [
       "<numpy.vectorize at 0x7f1c8e0b78b0>"
      ]
     },
     "execution_count": 77,
     "metadata": {},
     "output_type": "execute_result"
    }
   ],
   "source": [
    "np.li(np.arange(2000,2050,1)*fit2.slope + fit2.intercept)"
   ]
  },
  {
   "cell_type": "code",
   "execution_count": 3,
   "id": "3facba7c-1210-495b-b40c-42b04ebd636b",
   "metadata": {},
   "outputs": [
    {
     "ename": "NameError",
     "evalue": "name 'np' is not defined",
     "output_type": "error",
     "traceback": [
      "\u001b[0;31m---------------------------------------------------------------------------\u001b[0m",
      "\u001b[0;31mNameError\u001b[0m                                 Traceback (most recent call last)",
      "Input \u001b[0;32mIn [3]\u001b[0m, in \u001b[0;36m<cell line: 1>\u001b[0;34m()\u001b[0m\n\u001b[0;32m----> 1\u001b[0m twofield \u001b[38;5;241m=\u001b[39m \u001b[43mnp\u001b[49m\u001b[38;5;241m.\u001b[39mzeros(\u001b[38;5;241m10\u001b[39m, dtype\u001b[38;5;241m=\u001b[39m[[\u001b[38;5;124m'\u001b[39m\u001b[38;5;124mX\u001b[39m\u001b[38;5;124m'\u001b[39m, \u001b[38;5;124m'\u001b[39m\u001b[38;5;124mi4\u001b[39m\u001b[38;5;124m'\u001b[39m, \u001b[38;5;124m'\u001b[39m\u001b[38;5;124mY\u001b[39m\u001b[38;5;124m'\u001b[39m, \u001b[38;5;124m'\u001b[39m\u001b[38;5;124mf8\u001b[39m\u001b[38;5;124m'\u001b[39m]])\n\u001b[1;32m      2\u001b[0m twofield[\u001b[38;5;241m0\u001b[39m][\u001b[38;5;241m0\u001b[39m] \u001b[38;5;241m=\u001b[39m \u001b[38;5;241m1880\u001b[39m\n\u001b[1;32m      3\u001b[0m twofield[\u001b[38;5;241m0\u001b[39m][\u001b[38;5;241m1\u001b[39m] \u001b[38;5;241m=\u001b[39m \u001b[38;5;241m1.2254\u001b[39m\n",
      "\u001b[0;31mNameError\u001b[0m: name 'np' is not defined"
     ]
    }
   ],
   "source": [
    "twofield = np.zeros(10, dtype=[['X', 'i4', 'Y', 'f8']])\n",
    "twofield[0][0] = 1880\n",
    "twofield[0][1] = 1.2254\n",
    "twofield"
   ]
  },
  {
   "cell_type": "code",
   "execution_count": 52,
   "id": "6d936a53-ad0f-47b2-88f2-4f1698d36a21",
   "metadata": {},
   "outputs": [],
   "source": [
    "expected = [[1880.0, 0.0], [1881.0, 0.220472441], [1882.0, -0.440944881], [1883.0, -0.232283464], [1884.0, 0.590551181], [1885.0, 0.531496062], [1886.0, 0.437007874], [1887.0, 0.216535433], [1888.0, 0.299212598], [1889.0, 0.362204724], [1890.0, 0.440944881], [1891.0, 0.374015748], [1892.0, 0.499999999], [1893.0, 0.685039369], [1894.0, 0.303149606], [1895.0, 0.767716535], [1896.0, 0.468503937], [1897.0, 0.673228346], [1898.0, 1.043307086], [1899.0, 1.338582676], [1900.0, 1.125984251], [1901.0, 1.110236219], [1902.0, 1.291338581], [1903.0, 1.606299211], [1904.0, 1.2007874], [1905.0, 0.984251968], [1906.0, 1.251968503], [1907.0, 1.196850392], [1908.0, 1.098425196], [1909.0, 1.27559055], [1910.0, 1.271653542], [1911.0, 1.598425195], [1912.0, 1.476377951], [1913.0, 1.547244093], [1914.0, 1.795275589], [1915.0, 2.10629921], [1916.0, 2.031496061], [1917.0, 1.854330707], [1918.0, 1.791338581], [1919.0, 1.854330707], [1920.0, 1.905511809], [1921.0, 1.988188974], [1922.0, 1.952755904], [1923.0, 1.999999998], [1924.0, 1.712598423], [1925.0, 1.791338581], [1926.0, 2.047244092], [1927.0, 2.003937006], [1928.0, 1.850393699], [1929.0, 1.905511809], [1930.0, 2.062992124], [1931.0, 2.047244092], [1932.0, 2.271653541], [1933.0, 2.440944879], [1934.0, 2.228346454], [1935.0, 2.448818895], [1936.0, 2.295275588], [1937.0, 2.519685037], [1938.0, 2.622047241], [1939.0, 2.826771651], [1940.0, 2.618110234], [1941.0, 3.098425194], [1942.0, 3.098425194], [1943.0, 3.098425194], [1944.0, 2.84645669], [1945.0, 2.95669291], [1946.0, 3.251968501], [1947.0, 3.374015745], [1948.0, 3.562992122], [1949.0, 3.51181102], [1950.0, 3.598425193], [1951.0, 3.972440941], [1952.0, 3.870078736], [1953.0, 4.043307082], [1954.0, 3.929133854], [1955.0, 3.964566925], [1956.0, 3.763779524], [1957.0, 4.291338578], [1958.0, 4.346456688], [1959.0, 4.358267712], [1960.0, 4.503937003], [1961.0, 4.748031491], [1962.0, 4.543307082], [1963.0, 4.480314956], [1964.0, 4.169291334], [1965.0, 4.610236216], [1966.0, 4.397637791], [1967.0, 4.452755901], [1968.0, 4.484251964], [1969.0, 4.751968499], [1970.0, 4.67716535], [1971.0, 4.881889759], [1972.0, 5.240157475], [1973.0, 5.003937003], [1974.0, 5.472440939], [1975.0, 5.409448813], [1976.0, 5.370078735], [1977.0, 5.303149601], [1978.0, 5.555118105], [1979.0, 5.362204719], [1980.0, 5.598425191], [1981.0, 6.086614167], [1982.0, 5.858267711], [1983.0, 6.188976372], [1984.0, 6.153543301], [1985.0, 5.74803149], [1986.0, 5.771653537], [1987.0, 5.795275585], [1988.0, 5.980314955], [1989.0, 6.157480309], [1990.0, 6.232283458], [1991.0, 6.334645663], [1992.0, 6.35826771], [1993.0, 6.291338576], [1994.0, 6.499999993], [1995.0, 6.618110229], [1996.0, 6.787401568], [1997.0, 7.066929127], [1998.0, 6.665354324], [1999.0, 7.011811016], [2000.0, 7.062992119], [2001.0, 7.287401567], [2002.0, 7.381889756], [2003.0, 7.759842512], [2004.0, 7.740157472], [2005.0, 7.74409448], [2006.0, 7.917322827], [2007.0, 7.996062984], [2008.0, 8.350393692], [2009.0, 8.586614164], [2010.0, 8.901574794], [2011.0, 8.96456692], [2012.0, 9.326771644], [2013.0, 8.980314951]]"
   ]
  },
  {
   "cell_type": "code",
   "execution_count": 54,
   "id": "350c3e2c-caba-4d5c-aa03-5fbe9c425181",
   "metadata": {},
   "outputs": [
    {
     "data": {
      "text/plain": [
       "False"
      ]
     },
     "execution_count": 54,
     "metadata": {},
     "output_type": "execute_result"
    }
   ],
   "source": [
    "np.array_equal(expected,Film)"
   ]
  },
  {
   "cell_type": "code",
   "execution_count": 86,
   "id": "34eeebb0-18c4-4731-b7ba-7861a2e62236",
   "metadata": {},
   "outputs": [],
   "source": [
    "Film = (np.zeros((xFilin.size,2)))\n"
   ]
  },
  {
   "cell_type": "code",
   "execution_count": 95,
   "id": "f3d67f99-dd34-4ed8-9854-925ca42aed2a",
   "metadata": {},
   "outputs": [
    {
     "data": {
      "text/plain": [
       "1881"
      ]
     },
     "execution_count": 95,
     "metadata": {},
     "output_type": "execute_result"
    }
   ],
   "source": [
    "xFilin[1].item()"
   ]
  },
  {
   "cell_type": "code",
   "execution_count": 113,
   "id": "035c3e9d-256d-4192-8cab-e681fb72ef8a",
   "metadata": {},
   "outputs": [
    {
     "ename": "ValueError",
     "evalue": "mismatch in size of old and new data-descriptor",
     "output_type": "error",
     "traceback": [
      "\u001b[1;31m---------------------------------------------------------------------------\u001b[0m",
      "\u001b[1;31mValueError\u001b[0m                                Traceback (most recent call last)",
      "Input \u001b[1;32mIn [19]\u001b[0m, in \u001b[0;36m<cell line: 1>\u001b[1;34m()\u001b[0m\n\u001b[1;32m----> 1\u001b[0m Film \u001b[38;5;241m=\u001b[39m \u001b[43mnp\u001b[49m\u001b[38;5;241;43m.\u001b[39;49m\u001b[43mzeros\u001b[49m\u001b[43m(\u001b[49m\u001b[43m(\u001b[49m\u001b[43mxFilin\u001b[49m\u001b[38;5;241;43m.\u001b[39;49m\u001b[43msize\u001b[49m\u001b[43m,\u001b[49m\u001b[38;5;241;43m2\u001b[39;49m\u001b[43m)\u001b[49m\u001b[43m,\u001b[49m\u001b[43mdtype\u001b[49m\u001b[38;5;241;43m=\u001b[39;49m\u001b[43m(\u001b[49m\u001b[38;5;124;43m'\u001b[39;49m\u001b[38;5;124;43mi4\u001b[39;49m\u001b[38;5;124;43m'\u001b[39;49m\u001b[43m,\u001b[49m\u001b[38;5;124;43m'\u001b[39;49m\u001b[38;5;124;43mf8\u001b[39;49m\u001b[38;5;124;43m'\u001b[39;49m\u001b[43m)\u001b[49m\u001b[43m)\u001b[49m\n\u001b[0;32m      2\u001b[0m Film\n",
      "\u001b[1;31mValueError\u001b[0m: mismatch in size of old and new data-descriptor"
     ]
    }
   ],
   "source": [
    "Film = np.zeros((xFilin.size,2),dtype=[('i4', 'i4')])"
   ]
  },
  {
   "cell_type": "code",
   "execution_count": 133,
   "id": "5d0992bc-6011-4530-bbb2-1c4fc99cce69",
   "metadata": {},
   "outputs": [
    {
     "ename": "TypeError",
     "evalue": "array() missing required argument 'object' (pos 0)",
     "output_type": "error",
     "traceback": [
      "\u001b[1;31m---------------------------------------------------------------------------\u001b[0m",
      "\u001b[1;31mTypeError\u001b[0m                                 Traceback (most recent call last)",
      "Input \u001b[1;32mIn [11]\u001b[0m, in \u001b[0;36m<cell line: 1>\u001b[1;34m()\u001b[0m\n\u001b[1;32m----> 1\u001b[0m x \u001b[38;5;241m=\u001b[39m \u001b[43mnp\u001b[49m\u001b[38;5;241;43m.\u001b[39;49m\u001b[43marray\u001b[49m\u001b[43m(\u001b[49m\u001b[43m)\u001b[49m ((\u001b[38;5;241m170\u001b[39m, \u001b[38;5;241m2\u001b[39m), dtype\u001b[38;5;241m=\u001b[39m\u001b[38;5;124m'\u001b[39m\u001b[38;5;124mi4,f8\u001b[39m\u001b[38;5;124m'\u001b[39m)\n\u001b[0;32m      2\u001b[0m x\n",
      "\u001b[1;31mTypeError\u001b[0m: array() missing required argument 'object' (pos 0)"
     ]
    }
   ],
   "source": [
    "x = np.zeros((170, 2), dtype='i4')\n",
    "x"
   ]
  },
  {
   "cell_type": "code",
   "execution_count": 129,
   "id": "bd1adc46-66d4-4ae2-b358-3c94f8a36ba5",
   "metadata": {},
   "outputs": [],
   "source": [
    "onefield = np.zeros(2, dtype=[('A', 'i4')])"
   ]
  },
  {
   "cell_type": "code",
   "execution_count": 131,
   "id": "17bd25e3-201f-4553-8380-4ee8249aae6c",
   "metadata": {},
   "outputs": [],
   "source": [
    " nostruct = np.zeros(2, dtype='i4')"
   ]
  },
  {
   "cell_type": "code",
   "execution_count": null,
   "id": "1bbec842-74aa-434c-b521-70aae7e4c9b0",
   "metadata": {},
   "outputs": [],
   "source": []
  },
  {
   "cell_type": "code",
   "execution_count": 132,
   "id": "55036b42-3564-42b1-9e8c-22931f086f20",
   "metadata": {},
   "outputs": [
    {
     "data": {
      "text/plain": [
       "array([0, 0])"
      ]
     },
     "execution_count": 132,
     "metadata": {},
     "output_type": "execute_result"
    }
   ],
   "source": [
    "nostruct"
   ]
  },
  {
   "cell_type": "code",
   "execution_count": 49,
   "id": "672bb117-01a6-4d1e-a6bf-1e714471f2e4",
   "metadata": {},
   "outputs": [
    {
     "data": {
      "text/plain": [
       "array([1880, 1881, 1882, 1883, 1884, 1885, 1886, 1887, 1888, 1889, 1890,\n",
       "       1891, 1892, 1893, 1894, 1895, 1896, 1897, 1898, 1899, 1900, 1901,\n",
       "       1902, 1903, 1904, 1905, 1906, 1907, 1908, 1909, 1910, 1911, 1912,\n",
       "       1913, 1914, 1915, 1916, 1917, 1918, 1919, 1920, 1921, 1922, 1923,\n",
       "       1924, 1925, 1926, 1927, 1928, 1929, 1930, 1931, 1932, 1933, 1934,\n",
       "       1935, 1936, 1937, 1938, 1939, 1940, 1941, 1942, 1943, 1944, 1945,\n",
       "       1946, 1947, 1948, 1949, 1950, 1951, 1952, 1953, 1954, 1955, 1956,\n",
       "       1957, 1958, 1959, 1960, 1961, 1962, 1963, 1964, 1965, 1966, 1967,\n",
       "       1968, 1969, 1970, 1971, 1972, 1973, 1974, 1975, 1976, 1977, 1978,\n",
       "       1979, 1980, 1981, 1982, 1983, 1984, 1985, 1986, 1987, 1988, 1989,\n",
       "       1990, 1991, 1992, 1993, 1994, 1995, 1996, 1997, 1998, 1999, 2000,\n",
       "       2001, 2002, 2003, 2004, 2005, 2006, 2007, 2008, 2009, 2010, 2011,\n",
       "       2012, 2013, 2014, 2015, 2016, 2017, 2018, 2019, 2020, 2021, 2022,\n",
       "       2023, 2024, 2025, 2026, 2027, 2028, 2029, 2030, 2031, 2032, 2033,\n",
       "       2034, 2035, 2036, 2037, 2038, 2039, 2040, 2041, 2042, 2043, 2044,\n",
       "       2045, 2046, 2047, 2048, 2049])"
      ]
     },
     "execution_count": 49,
     "metadata": {},
     "output_type": "execute_result"
    }
   ],
   "source": [
    "np.arange(df['Year'].min(),2050,1)"
   ]
  },
  {
   "cell_type": "code",
   "execution_count": null,
   "id": "3f81eabc-dcb4-42a0-addd-6c1c55b3658f",
   "metadata": {},
   "outputs": [],
   "source": [
    " "
   ]
  }
 ],
 "metadata": {
  "kernelspec": {
   "display_name": "Python 3 (ipykernel)",
   "language": "python",
   "name": "python3"
  },
  "language_info": {
   "codemirror_mode": {
    "name": "ipython",
    "version": 3
   },
   "file_extension": ".py",
   "mimetype": "text/x-python",
   "name": "python",
   "nbconvert_exporter": "python",
   "pygments_lexer": "ipython3",
   "version": "3.9.12"
  }
 },
 "nbformat": 4,
 "nbformat_minor": 5
}
